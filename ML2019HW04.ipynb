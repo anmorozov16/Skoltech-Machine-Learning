{
 "cells": [
  {
   "cell_type": "markdown",
   "metadata": {},
   "source": [
    "# Home Assignment No. 4 (Optional)"
   ]
  },
  {
   "cell_type": "markdown",
   "metadata": {},
   "source": [
    "Please, write your implementation within the designated blocks:\n",
    "```python\n",
    "...\n",
    "### BEGIN Solution\n",
    "\n",
    "# >>> your solution here <<<\n",
    "\n",
    "### END Solution\n",
    "...\n",
    "```\n",
    "\n",
    "Write your theoretical derivations within such blocks:\n",
    "```markdown\n",
    "**BEGIN Solution**\n",
    "\n",
    "<!-- >>> your derivation here <<< -->\n",
    "\n",
    "**END Solution**\n",
    "```"
   ]
  },
  {
   "cell_type": "markdown",
   "metadata": {},
   "source": [
    "## $\\LaTeX$ in Jupyter\n",
    "Jupyter has constantly improving $\\LaTeX$ support. Below are the basic methods to\n",
    "write **neat, tidy, and well typeset** equations in your notebooks:\n",
    "* to write an **inline** equation use \n",
    "```markdown\n",
    "$ you latex equation here $\n",
    "```\n",
    "* to write an equation, that is **displayed on a separate line** use \n",
    "```markdown\n",
    "$$ you latex equation here $$\n",
    "```\n",
    "* to write a **block of equations** use \n",
    "```markdown\n",
    "\\begin{align}\n",
    "    left-hand-side\n",
    "        &= right-hand-side on line 1\n",
    "        \\\\\n",
    "        &= right-hand-side on line 2\n",
    "        \\\\\n",
    "        &= right-hand-side on the last line\n",
    "\\end{align}\n",
    "```\n",
    "The **ampersand** (`&`) aligns the equations horizontally and the **double backslash**\n",
    "(`\\\\`) creates a new line."
   ]
  },
  {
   "cell_type": "markdown",
   "metadata": {},
   "source": [
    "<br>"
   ]
  },
  {
   "cell_type": "markdown",
   "metadata": {},
   "source": [
    "# Anomaly / outlier detection"
   ]
  },
  {
   "cell_type": "markdown",
   "metadata": {},
   "source": [
    "In this assignment you will need to work through a modified version of\n",
    "the SVDD model (**support vector data description**) -- a model for outlier\n",
    "detection, and show some theoretical properties."
   ]
  },
  {
   "cell_type": "markdown",
   "metadata": {},
   "source": [
    "Suppose that we have a dataset $x_1, \\ldots, x_l$ from some set $\\mathcal{X}$.\n",
    "\n",
    "We apply the kernel trick using the kernel $K \\colon \\mathcal{X} \\times \\mathcal{X}\n",
    "\\to \\mathbb{R}$ of the Hilbert space $\\bigl(\\mathcal{H}, \\langle \\cdot,\n",
    "\\cdot \\rangle\\big)$ with the feature mapping $\\phi(\\cdot)\\colon \\mathcal{X}\n",
    "\\to \\mathcal{H}$."
   ]
  },
  {
   "cell_type": "markdown",
   "metadata": {},
   "source": [
    "Assume that $\\nu \\in (0, 1)$, and $C_i > 0$ with $\\sum_{i=1}^l C_i = 1$."
   ]
  },
  {
   "cell_type": "markdown",
   "metadata": {},
   "source": [
    "The SVDD model (kernelized) is"
   ]
  },
  {
   "cell_type": "markdown",
   "metadata": {},
   "source": [
    "$$\n",
    "\\begin{aligned}\n",
    "    & \\underset{R, h, \\xi}{\\text{minimize}}\n",
    "      & & R + \\frac1\\nu \\sum_{i=1}^l C_i \\xi_i\n",
    "          \\,, \\\\\n",
    "    & \\text{subject to}\n",
    "      & & \\|\\phi(x_i) - h \\|^2 \\leq R + \\xi_i\n",
    "          \\,, \\\\\n",
    "    & & & \\xi_i \\geq 0\n",
    "          \\,.\n",
    "\\end{aligned}\n",
    "$$"
   ]
  },
  {
   "cell_type": "markdown",
   "metadata": {},
   "source": [
    "<br>"
   ]
  },
  {
   "cell_type": "markdown",
   "metadata": {},
   "source": [
    "## Task 1 (3 pt.): Can $R$ be negative?"
   ]
  },
  {
   "cell_type": "markdown",
   "metadata": {},
   "source": [
    "\n",
    "\n",
    "Consider the SVDD problem with an extra constraint $R \\geq 0$.\n",
    "\n",
    "$$\n",
    "\\begin{aligned}\n",
    "    & \\underset{R, h, \\xi}{\\text{minimize}}\n",
    "      & & R + \\frac1\\nu \\sum_{i=1}^l C_i \\xi_i\n",
    "          \\,, \\\\\n",
    "    & \\text{subject to}\n",
    "      & & \\|\\phi(x_i) - h \\|^2 \\leq R + \\xi_i\n",
    "          \\,, \\\\\n",
    "    & & & \\xi_i \\geq 0\n",
    "          \\,, \\\\\n",
    "    & & & R \\geq 0\n",
    "          \\,.\n",
    "\\end{aligned}\n",
    "$$"
   ]
  },
  {
   "cell_type": "markdown",
   "metadata": {},
   "source": [
    "The $R \\geq 0$ constraint is a nuisance.\n",
    "\n",
    "* Show, that if $(R, \\xi, h)$ has $R < 0$, then it **is not better** than a\n",
    "certain other feasible candidate $(\\hat{R}, \\hat{\\xi}, \\hat{h})$ with $\\hat{R} \\geq 0$.\n",
    "* Argue that it is, in fact, **redundant**, i.e. the problem formulations\n",
    "**with it** and **without it** have identical solutions."
   ]
  },
  {
   "cell_type": "markdown",
   "metadata": {},
   "source": [
    "**Begin Solution**"
   ]
  },
  {
   "cell_type": "code",
   "execution_count": null,
   "metadata": {
    "collapsed": true
   },
   "outputs": [],
   "source": []
  },
  {
   "cell_type": "markdown",
   "metadata": {},
   "source": [
    "**End Solution**"
   ]
  },
  {
   "cell_type": "markdown",
   "metadata": {},
   "source": [
    "<br>"
   ]
  },
  {
   "cell_type": "markdown",
   "metadata": {},
   "source": [
    "## Task 2 (2 pt.): Can $\\xi_i > 0$ for all $i$?"
   ]
  },
  {
   "cell_type": "markdown",
   "metadata": {},
   "source": [
    "Argue if $(R, \\xi, h)$ is a solution, then $\\xi_i = 0$ for at least one $i=1,\\,\\ldots,\\,l$. Let $\\bar{\\xi} = \\min_{j=1}^l \\xi_j$.\n",
    "\n",
    "**HINT** Use an argument similar to Task $1$."
   ]
  },
  {
   "cell_type": "markdown",
   "metadata": {},
   "source": [
    "**Begin Solution**"
   ]
  },
  {
   "cell_type": "code",
   "execution_count": null,
   "metadata": {
    "collapsed": true
   },
   "outputs": [],
   "source": []
  },
  {
   "cell_type": "markdown",
   "metadata": {},
   "source": [
    "**End Solution**"
   ]
  },
  {
   "cell_type": "markdown",
   "metadata": {},
   "source": [
    "<br>"
   ]
  },
  {
   "cell_type": "markdown",
   "metadata": {},
   "source": [
    "## Task 3 (2 pt.): The Lagrangian and KKT conditions"
   ]
  },
  {
   "cell_type": "markdown",
   "metadata": {},
   "source": [
    "### Reference: http://citeseerx.ist.psu.edu/viewdoc/download?doi=10.1.1.100.1425&rep=rep1&type=pdf\n",
    "\n",
    "Support Vector Data Description"
   ]
  },
  {
   "cell_type": "markdown",
   "metadata": {},
   "source": [
    "Please, write out the Lagrangian function of the problem and write out the KKT conditions\n",
    "* Lagrangian\n",
    "* the first order conditions\n",
    "* the complementary slackness conditions\n",
    "* the primal and dual constraints"
   ]
  },
  {
   "cell_type": "markdown",
   "metadata": {},
   "source": [
    "**Begin Solution**"
   ]
  },
  {
   "cell_type": "markdown",
   "metadata": {
    "collapsed": true
   },
   "source": [
    "* Lagrangian$$L(R,h,\\alpha_{i},\\beta_{i},\\xi_{i})=R+\\frac{1}{\\nu}\\sum_{i}C_{i}\\xi_{i}-\\sum_{i}\\alpha_{i}\\big[{R+\\xi_{i}-\\|\\phi{(x_{i})}-h\\|^2\\big{]}}-\\sum_{i}\\beta_{i}\\xi_{i}$$\n",
    "\n",
    "\n",
    "* First Order Conditions\n",
    "\n",
    "$\\frac{\\partial{L}}{\\partial{R}}=0: \\sum_{i}\\alpha_{i}=1;\\\\\n",
    "\\frac{\\partial{L}}{\\partial{h}}=0: h=\\frac{\\sum_{i}\\alpha_{i}x_{i}}{\\sum_{i}\\alpha_{i}}=\\sum_{i}\\alpha_{i}\\phi{(x_{i})};\\\\\n",
    "\\frac{\\partial{L}}{\\partial{\\xi_{i}}}=0: \\frac{C_{i}}{\\nu}-\\alpha_{i}-\\beta_{i}=0\n",
    "$\n",
    "\n",
    "\n",
    "* Complementary Slackness Conditions\n",
    "\n",
    "$$\\alpha_{i}\\big[ R+\\xi_{i}-\\|\\phi{(x_{i})}-h\\|^2\\big]=0;\\\\\n",
    "\\beta_{i}\\xi_{i}=0$$\n",
    "\n",
    "* Primal and Dual Constraints\n",
    "\n",
    "$\\alpha_{i}\\geq 0;\\\\\n",
    "\\beta_{i}\\geq 0;\\\\\n",
    "\\xi_{i}\\geq 0.$\n"
   ]
  },
  {
   "cell_type": "markdown",
   "metadata": {},
   "source": [
    "**End Solution**"
   ]
  },
  {
   "cell_type": "markdown",
   "metadata": {},
   "source": [
    "<br>"
   ]
  },
  {
   "cell_type": "markdown",
   "metadata": {},
   "source": [
    "## Task 4 (2 pt.): Simplifying the Lagrangian"
   ]
  },
  {
   "cell_type": "markdown",
   "metadata": {},
   "source": [
    "Write down $h$ as a function of transformed input data and dual coefficients,\n",
    "and using the first order conditions rewrite the Lagrangian in such a way, that\n",
    "it only contains dual variables and evaluations of the kernel $K(\\cdot, \\cdot)$."
   ]
  },
  {
   "cell_type": "markdown",
   "metadata": {},
   "source": [
    "**Begin Solution**"
   ]
  },
  {
   "cell_type": "markdown",
   "metadata": {
    "collapsed": true
   },
   "source": [
    "From task 3:\n",
    "\n",
    "$\\begin{align}\n",
    "    L(R,h,\\alpha_{i},\\beta_{i},\\xi_{i})\n",
    "    &=R+\\frac{1}{\\nu}\\sum_{i}C_{i}\\xi_{i}-\\sum_{i}\\alpha_{i}\\big[{R+\\xi_{i}-\\|\\phi{(x_{i})}-h\\|^2\\big{]}}-\\sum_{i}\\beta_{i}\\xi_{i}\n",
    "    \\\\\n",
    "    &\\stackrel{\\text{FOC: }h = \\sum_i \\alpha_i \\phi(x_i)}{=}\n",
    "    \\\\\n",
    "    &R+\\frac{1}{\\nu}\\sum_{i}C_{i}\\xi_{i}-\\sum_{i}\\alpha_{i}\\big[R+\\xi_{i}-K(x_i,x_i)+2\\sum_{j}\\alpha_{j}K(x_i,x_j)-\\sum_{j}a_{j}^{2}K(x_j, x_j)\\big]-\\sum_{i}\\beta_{i}\\xi_{i}\n",
    "    \\\\\n",
    "    &=R-\\sum_i \\alpha_i R + \\sum_i \\alpha_i K(x_i, x_i) - 2 \\sum_{i, j} \\alpha_i \\alpha_j K(x_i, x_j) + \\sum_{i,j} \\alpha_i \\alpha_j^2 K(x_j, x_j)+\\sum_i (\\frac{C_i}{\\nu} - \\beta_i - \\alpha_i) \\xi_i\n",
    "    \\\\\n",
    "    &\\stackrel{\\text{FOC: }\\frac{C_i}{\\nu} - \\alpha_i - \\beta_i = 0}{=}\n",
    "    \\\\\n",
    "    &\\sum_i \\alpha_i \\big[K(x_i, x_i) - 2 \\sum_{j} \\alpha_j K(x_i, x_j) + \\sum_{j} \\alpha_j^2 K(x_j, x_j)\\big]\n",
    "\\end{align}$"
   ]
  },
  {
   "cell_type": "markdown",
   "metadata": {},
   "source": [
    "**End Solution**"
   ]
  },
  {
   "cell_type": "markdown",
   "metadata": {},
   "source": [
    "<br>"
   ]
  },
  {
   "cell_type": "markdown",
   "metadata": {},
   "source": [
    "## Task 5 (2 pt.): The dual problem"
   ]
  },
  {
   "cell_type": "markdown",
   "metadata": {},
   "source": [
    "* Carefully eliminate $\\beta_i$ from the KKT conditions, and write\n",
    "down the inequality constraints for the dual variables $\\alpha_i$,\n",
    "implied by the FOC.\n",
    "\n",
    "* Combine your results into dual problem (minimization)."
   ]
  },
  {
   "cell_type": "markdown",
   "metadata": {},
   "source": [
    "**Begin Solution**"
   ]
  },
  {
   "cell_type": "markdown",
   "metadata": {
    "collapsed": true
   },
   "source": [
    "Taking the obtained result from the Task 4, we maximize it w.r.t $\\alpha$:\n",
    "\n",
    "$$\\underset{\\alpha}{\\text{maximize}}\\sum_i \\alpha_i \\big[K(x_i, x_i) - 2 \\sum_{j} \\alpha_j K(x_i, x_j) + \\sum_{j} \\alpha_j^2 K(x_j, x_j)\\big]$$\n",
    "\n",
    "s.t. $\\sum_{i}\\alpha_{i}=1$ and:\n",
    "\n",
    "\n",
    "$\\alpha_i\\geq0$, \n",
    "$\\beta_i\\geq0$, \n",
    "$\\frac{C_{i}}{\\nu}-\\alpha_{i}-\\beta_{i}=0\\Rightarrow\\quad0\\leq\\alpha_i\\leq\\frac{C_i}{\\nu}$"
   ]
  },
  {
   "cell_type": "markdown",
   "metadata": {},
   "source": [
    "**End Solution**"
   ]
  },
  {
   "cell_type": "markdown",
   "metadata": {},
   "source": [
    "<br>"
   ]
  },
  {
   "cell_type": "markdown",
   "metadata": {},
   "source": [
    "## Task 6 (2 pt.)"
   ]
  },
  {
   "cell_type": "markdown",
   "metadata": {},
   "source": [
    "Suppose, you have solved the dual and have optimal $(\\alpha^*_i)_{i=1}^l$ and\n",
    "$ h^* = \\sum_{i=1}^l \\alpha^*_i \\phi(x_i)$.\n",
    "\n",
    "Let $M = \\{i\\colon \\alpha^*_i \\in \\left(0, \\tfrac{C_i}{\\nu}\\right)\\}$ and suppose $M \\neq \\emptyset$.\n",
    "\n",
    "* Derive the expression for the optimal value of $R$ from this and the\n",
    "complementary slackness conditions.\n",
    "\n",
    "* Write out the decision function for an arbitrary $x\\in \\mathcal{X}$."
   ]
  },
  {
   "cell_type": "markdown",
   "metadata": {},
   "source": [
    "**Begin Solution**"
   ]
  },
  {
   "cell_type": "markdown",
   "metadata": {
    "collapsed": true
   },
   "source": [
    "* Use the same logic as from the referenced article (p.49) and taking into account only non-support vectors, the optimal $R'$:\n",
    "$$R'=\\|\\phi(x_i) - h'\\|^2 \\quad i \\in M$$\n",
    "\n",
    "* Decision function:\n",
    "\n",
    "Relevant points, i.e. inliers:\n",
    "$$\\|\\phi(x_i) - h'\\|^2 < R$$\n",
    "Outliers:\n",
    "$$\\|\\phi(x_i) - h'\\|^2 > R$$"
   ]
  },
  {
   "cell_type": "markdown",
   "metadata": {},
   "source": [
    "**End Solution**"
   ]
  },
  {
   "cell_type": "markdown",
   "metadata": {},
   "source": [
    "<br>"
   ]
  },
  {
   "cell_type": "markdown",
   "metadata": {},
   "source": [
    "## Task 7: Analysis"
   ]
  },
  {
   "cell_type": "markdown",
   "metadata": {},
   "source": [
    "### Task 7.1 (2 pt.)"
   ]
  },
  {
   "cell_type": "markdown",
   "metadata": {},
   "source": [
    "Suppose that for some $x_i$ we have $\\|\\phi(x_i) - h\\|^2 < R$.\n",
    "We will call this point **inlier**.\n",
    "\n",
    "* What are the values of $\\alpha_i$ and $\\beta_i$ for such a point?\n",
    "* Show that $1-\\nu$ upper-bounds the sum of weights $C_i$ for the **inlier** points."
   ]
  },
  {
   "cell_type": "markdown",
   "metadata": {},
   "source": [
    "**Begin Solution**"
   ]
  },
  {
   "cell_type": "markdown",
   "metadata": {
    "collapsed": true
   },
   "source": [
    "* Again, p.49:\n",
    "\n",
    "When an object $x_i$ satisfies the inequality $\\|\\phi(x_i) − h\\|^2 < R + \\xi_i$, the constraint is satisfied and the corresponding Lagrange multiplier will be zero ($\\alpha_i = 0$).\n",
    "\n",
    "$$\\|\\phi(x_i) - h\\|^2 < R + \\xi_i \\quad\\rightarrow\\quad \\alpha_{i}=0,  \\beta_{i}=0$$\n",
    "\n",
    "\n",
    "\n",
    "* From the given assumption, we know that $\\sum_{i=1}^l C_i = 1$\n",
    "It is also true that it is a sum of support vectors, inliers, and outliers:\n",
    "\n",
    "$$\\sum_{i} C_i = \\sum_{i\\in\\text{support}} C_{i}+\\sum_{i\\in\\text{inlier}} C_{i}+\\sum_{i\\in\\text{outlier}} C_{i}=1$$\n",
    "\n",
    "Solve for inlier:\n",
    "\n",
    "$$C_{i} = 1 -\\sum_{i\\in\\text{support}}C_{i}-\\sum_{i\\in\\text{outlier}}C_{i}$$\n",
    "\n",
    "Knowing that $\\sum_{i\\in\\text{support}}C_{i}\\geq0$:\n",
    "\n",
    "$$C_{i} = 1 -\\sum_{i\\in\\text{support}}C_{i}-\\sum_{i\\in\\text{outlier}}C_{i}\\leq 1-\\sum_{i\\in\\text{outlier}}C_{i}$$\n",
    "\n",
    "Taking into account \"$1-\\nu$\", which is $\\sum_{i\\in\\text{outlier}}C_{i}\\leq\\nu$:\n",
    "\n",
    "$$\\sum_{i\\in\\text{inlier}}C_{i}\\leq1-\\sum_{i\\in\\text{outlier}}C_{i}\\leq 1-\\nu$$\n",
    "\n",
    "where $\\text{inlier}: \\alpha_i=0, \\text{support}: \\alpha_i=[0,\\frac{C_i}{\\nu}], \\text{outlier}: \\alpha_i=\\frac{C_i}{\\nu}$."
   ]
  },
  {
   "cell_type": "markdown",
   "metadata": {},
   "source": [
    "**End Solution**"
   ]
  },
  {
   "cell_type": "markdown",
   "metadata": {},
   "source": [
    "<br>"
   ]
  },
  {
   "cell_type": "markdown",
   "metadata": {},
   "source": [
    "### Task 7.2 (2 pt.)"
   ]
  },
  {
   "cell_type": "markdown",
   "metadata": {},
   "source": [
    "Suppose that for some $x_i$ it holds that $\\|\\phi(x_i) - h \\|^2 > R$.\n",
    "Such points are called **outliers**.\n",
    "\n",
    "* What are the values of $\\alpha_i$ and $\\beta_i$ for these points?\n",
    "* Argue that the sum of weights $C_i$ for the **outliers** is upper bounded by $\\nu$."
   ]
  },
  {
   "cell_type": "markdown",
   "metadata": {},
   "source": [
    "**Begin Solution**"
   ]
  },
  {
   "cell_type": "markdown",
   "metadata": {
    "collapsed": true
   },
   "source": [
    "* Again, p.49:\n",
    "\n",
    "For objects satisfying the equality \n",
    "\n",
    "$$\\|\\phi(x_i) − h\\|^2 = R + \\xi_i\\tag{1}$$ \n",
    "\n",
    "the constraint has to be enforced and the Lagrange multiplier will become unequal zero ($\\alpha_i > 0$).\n",
    "\n",
    "$$\n",
    "\\alpha_i=\\frac{C_i}{\\nu}, \\quad \\beta_i>0\n",
    "$$\n",
    "\n",
    "* \n",
    "Setting (1) to zero and rewriting it for $\\xi_i$ yields:\n",
    "\n",
    "$$\\xi_i = \\|\\phi(x_i) - h\\|^2 - R$$\n",
    "\n",
    "The SVDD model (kernelized) is then:\n",
    "\n",
    "$\\begin{align}\n",
    "    R + \\frac1\\nu \\sum_{i=1} C_i (\\|\\phi(x_i) - h\\|^2 - R)\n",
    "    \\\\\n",
    "    &=R \\big[1 - \\frac1\\nu \\sum_{i=1} C_i\\big] + \\frac1\\nu \\sum_{i=1} C_i \\|\\phi(x_i) - h\\|^2\n",
    "    \\\\\n",
    "    &\\geq R \\big[1 - \\frac1\\nu \\sum_{i=1} C_i \\big]\\geq0\n",
    "    \\\\\n",
    "    &\\stackrel{0<\\|\\phi(x_i) - h \\|^2< R}{=}\n",
    "    \\\\\n",
    "    &1 - \\frac1\\nu \\sum_{i=1} C_i \\geq 0 \n",
    "    \\\\\n",
    "    &\\implies \\sum_{i=1} C_i\n",
    "    \\leq \\nu\n",
    "\\end{align}$"
   ]
  },
  {
   "cell_type": "markdown",
   "metadata": {},
   "source": [
    "**End Solution**"
   ]
  },
  {
   "cell_type": "markdown",
   "metadata": {},
   "source": [
    "<br>"
   ]
  },
  {
   "cell_type": "markdown",
   "metadata": {},
   "source": [
    "### Task 7.3: Very small $\\nu$ (1 pt.)"
   ]
  },
  {
   "cell_type": "markdown",
   "metadata": {},
   "source": [
    "Suppose that $\\nu < C_i$ for all $i=1,\\,\\ldots,\\,l$. Show that\n",
    "there are **no outliers** in this case."
   ]
  },
  {
   "cell_type": "markdown",
   "metadata": {},
   "source": [
    "**Begin Solution**"
   ]
  },
  {
   "cell_type": "markdown",
   "metadata": {
    "collapsed": true
   },
   "source": [
    "From the previous parts of the task 7:\n",
    "\n",
    "$\\sum_{i\\in\\text{outlier}}C_{i}<0 \\quad\\&\\quad \\nu<C_i $ if and only if there are no outliers\n",
    "\n",
    "In case of outliers presence:\n",
    "\n",
    "$\\sum_{i\\in\\text{outlier}}C_{i}=\\sum_{i\\in\\text{outlier w/o others}}C_{i}+C_{i_\\text{others}}>\\nu$"
   ]
  },
  {
   "cell_type": "markdown",
   "metadata": {},
   "source": [
    "**End Solution**"
   ]
  },
  {
   "cell_type": "markdown",
   "metadata": {},
   "source": [
    "<br>"
   ]
  },
  {
   "cell_type": "markdown",
   "metadata": {},
   "source": [
    "### Task 7.4 (1 pt.)"
   ]
  },
  {
   "cell_type": "markdown",
   "metadata": {},
   "source": [
    "Suppose $C_i = \\tfrac1l$. Please, describe how $\\nu$ is related to the\n",
    "outliers in the datset, given the analysis above."
   ]
  },
  {
   "cell_type": "markdown",
   "metadata": {},
   "source": [
    "**Begin Solution**"
   ]
  },
  {
   "cell_type": "markdown",
   "metadata": {
    "collapsed": true
   },
   "source": [
    "From the previous parts of the task 7:\n",
    "\n",
    "$$\\nu>\\sum_{i\\in\\text{outlier}}C_{i}=\\sum_{i\\in\\text{outlier}}\\frac1{l}=\\frac{\\|\\text{outliers}\\|}{l} \\Rightarrow \\nu \\text{ is upper bounds outliers}$$"
   ]
  },
  {
   "cell_type": "markdown",
   "metadata": {},
   "source": [
    "**End Solution**"
   ]
  },
  {
   "cell_type": "markdown",
   "metadata": {},
   "source": [
    "<br>"
   ]
  }
 ],
 "metadata": {
  "kernelspec": {
   "display_name": "Python 3",
   "language": "python",
   "name": "python3"
  },
  "language_info": {
   "codemirror_mode": {
    "name": "ipython",
    "version": 3
   },
   "file_extension": ".py",
   "mimetype": "text/x-python",
   "name": "python",
   "nbconvert_exporter": "python",
   "pygments_lexer": "ipython3",
   "version": "3.7.1"
  }
 },
 "nbformat": 4,
 "nbformat_minor": 2
}
